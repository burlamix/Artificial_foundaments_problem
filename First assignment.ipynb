{
 "cells": [
  {
   "cell_type": "markdown",
   "metadata": {},
   "source": [
    "In this notebook we implement two algoritms AC3,AC4, to achieve arch consistently\n",
    "in a given a Constraint satisfaction problem(CSP).\n",
    "Achieving arch consistency of CSP by applying an algorithms means that from a given\n",
    "CSP P the algorithms will return a CSP P' such that P and P' are equivalent and P'\n",
    "is arch consistent. \n",
    "\n",
    "The first basic algorithm to achieve arch consistency of CSP is AC1, but it could\n",
    "be very inefficient since it have  a complexity in the worst case of O(a^3ne). \n",
    "This is due to the fact that the removal of any value from any domain would cause\n",
    "all the elements of Q to be re-examined.\n",
    "\n",
    "The main improvement made by AC3 is to examine only those binary-constraints which\n",
    " could be affected by the removal of values.\n",
    "First AC3  create a queue Q containing each binary-constraints to be exterminated.\n",
    "Then iterate over Q examining each binary-constraints with the function Revise \n",
    "(csp,x,y) that remove a value v from the domain of the variable X which do not have\n",
    "compatible values in the domain of Y, if this happen all binary-constraints that \n",
    "contain the variable X has to be reexamined, then they are put back in the queue Q.\n",
    "Since the length of Q is 2e (where e is the number of edges in the constraint graph),\n",
    "in the worst case, Revise delete only one values from a domain, then 2*e*a \n",
    "(where a is the maximum domain size) will be re-examined, and on each call of revise\n",
    "a^2 pairs of label are examined, the the upper bound of time complexity is O(a^3e)"
   ]
  },
  {
   "cell_type": "code",
   "execution_count": 59,
   "metadata": {},
   "outputs": [],
   "source": [
    "from collections import defaultdict\n",
    "import copy\n",
    "from random import choices\n",
    "from string import ascii_lowercase\n",
    "import random\n",
    "from random import randint\n",
    "import time\n",
    "\n",
    "n=0\n"
   ]
  },
  {
   "cell_type": "code",
   "execution_count": 60,
   "metadata": {},
   "outputs": [],
   "source": [
    "class csp():\n",
    "    '''Create a Constraint satisfaction problem object, composed by \n",
    "    a set of variable, a domain set for each variable, a set of neighbors for each variable,\n",
    "    and a constraint function.\n",
    "    The constraint function take in input two variable and two value, it return True if the combination\n",
    "    satisfy the constrain, false otherwise.\n",
    "    '''\n",
    "    def __init__(self, variables, domains, neighbors, constraints):\n",
    "        \"\"\"Construct a CSP problem. If variables is empty, it becomes domains.keys().\"\"\"\n",
    "        variables = variables or list(domains.keys())\n",
    "\n",
    "        self.variables = copy.deepcopy(variables)\n",
    "        self.domains = copy.deepcopy(domains)\n",
    "        self.neighbors = self.parse_neighbors(copy.deepcopy(neighbors))\n",
    "        self.constraints = constraints\n",
    "\n",
    "    def delete(self, var, value):\n",
    "        self.domains[var].remove(value)\n",
    "\n",
    "\n",
    "    def parse_neighbors(self, neighbors):\n",
    "        \"\"\"Convert a string of the form 'X: Y Z; Y: Z' into a dict mapping\n",
    "        regions to neighbors. The syntax is a region name followed by a ':'\n",
    "        followed by zero or more region names, followed by ';', repeated for\n",
    "        each region name. If you say 'X: Y' you don't need 'Y: X'.\n",
    "        >>> parse_neighbors('X: Y Z; Y: Z') == {'Y': ['X', 'Z'], 'X': ['Y', 'Z'], 'Z': ['X', 'Y']}\n",
    "        True\n",
    "        \"\"\"\n",
    "        dic = defaultdict(list)\n",
    "        for A,A_neibourg in neighbors.items():\n",
    "            for B in A_neibourg:\n",
    "                dic[A].append(B)\n",
    "                dic[B].append(A)\n",
    "        return dic"
   ]
  },
  {
   "cell_type": "code",
   "execution_count": null,
   "metadata": {},
   "outputs": [],
   "source": []
  },
  {
   "cell_type": "code",
   "execution_count": 61,
   "metadata": {},
   "outputs": [],
   "source": [
    "def revise(csp, Xi, Xj):\n",
    "    ''' The revise function take in input the csp problem and two variable. For each value in the domain\n",
    "    of Xi it check that there is at least on value x in the domain of Yi that satisfy a constraint, if not\n",
    "    it delete the value x from the domain of X. In at least one value from a domain is removed, the fiction\n",
    "     return True, False otherwise\n",
    "    '''\n",
    "    revised = False\n",
    "    satisfied=False\n",
    "    global n\n",
    "\n",
    "    for x in csp.domains[Xi][:]:\n",
    "        for y in csp.domains[Xj]:\n",
    "            n=n+1\n",
    "            if(csp.constraints(Xi, x, Xj, y)):\n",
    "                satisfied=True\n",
    "                \n",
    "        if(not satisfied):\n",
    "            csp.delete(Xi, x)\n",
    "            revised = True\n",
    "        #if all(not csp.constraints(Xi, x, Xj, y) for y in csp.domains[Xj]):\n",
    "        #   csp.delete(Xi, x)\n",
    "        #   revised = True\n",
    "    return revised"
   ]
  },
  {
   "cell_type": "code",
   "execution_count": 62,
   "metadata": {},
   "outputs": [],
   "source": [
    "def ac3(csp):\n",
    "    '''The function ac3 take in input a CSP problem, and it change directly it in a arch consistent CSP\n",
    "    and return True. If this is not possible it return False.\n",
    "    '''\n",
    "    global n\n",
    "    n=0\n",
    "    #make the queue of arch in the graph\n",
    "    queue = [(Xi, Xk) for Xi in csp.variables for Xk in csp.neighbors[Xi]]\n",
    "\n",
    "    #untill there is no costraint to check\n",
    "    while(queue):\n",
    "        (Xi, Xj) = queue.pop()\n",
    "        if revise(csp,Xi,Xj):\n",
    "                #in case a value is removed from the domain of Xi, all his neighbors must be checked.\n",
    "            for Xk in csp.neighbors[Xi]:\n",
    "                if Xk != Xj:\n",
    "                    queue.append((Xk, Xi))\n",
    "\n",
    "    return n"
   ]
  },
  {
   "cell_type": "markdown",
   "metadata": {},
   "source": [
    "Further improvement can be made on the AC3 algorithm decreasing his time \n",
    "complexity. This algorithm is called AC4.\n",
    "The main improvement of AC4 with respect to AC3 is that when a value v is\n",
    " removed from the domain of the\n",
    "variable X (inside the revise function), it is not always necessary to \n",
    "examine all the binary constraints where correlated to the variable X. \n",
    "Precisely  we do not have to examine those value u that do not rely on v \n",
    "for support. Where for support we mean the compatible value in the domain \n",
    "of every other variable.\n",
    "\n",
    "To identify the relevant label to be re-examined, AC4 need 3 specific data \n",
    "structure:\n",
    "S, the support set, that memorize for each variable the variable-value pairs\n",
    " that it supports.\n",
    "C, the table of counter, strictly correlated with S that count the the number\n",
    " of support that each label receives from each binary-constraint for the \n",
    " subject variable\n",
    "M, a Boolean matrix, full of zero at the beginning and where with one are \n",
    "marked the labels that have been rejected."
   ]
  },
  {
   "cell_type": "code",
   "execution_count": 63,
   "metadata": {},
   "outputs": [],
   "source": [
    "def ac4(csp):\n",
    "    global n\n",
    "    n=0\n",
    "\n",
    "    #get all the arch\n",
    "    queue = [(Xi, Xk) for Xi in csp.variables for Xk in csp.neighbors[Xi]]\n",
    "\n",
    "    List = []\n",
    "    #create a the support dictonary of dictionary of list\n",
    "    S = {}\n",
    "    for var in csp.variables:\n",
    "        S[var]={}\n",
    "        for lab in csp.domains[var][:]:\n",
    "            S[var][lab]=[]\n",
    "    #create the matrix M\n",
    "    M = {}\n",
    "    for var in csp.variables:\n",
    "        M[var]={}\n",
    "        for lab in csp.domains[var][:]:\n",
    "            M[var][lab]=0\n",
    "\n",
    "    #create counter for support\n",
    "    counter = {}\n",
    "    for var1 in csp.variables:\n",
    "        counter[var1]={}\n",
    "        for var2 in csp.variables:\n",
    "            counter[var1][var2]={}\n",
    "            for lab in csp.domains[var1][:]:\n",
    "                counter[var1][var2][lab]=0\n",
    "\n",
    "\n",
    "\n",
    "    while(queue):\n",
    "        \n",
    "        (Xi, Xj) = queue.pop()\n",
    "\n",
    "        for b in csp.domains[Xi][:]:\n",
    "            total=0\n",
    "            for c in csp.domains[Xj][:]:\n",
    "                n=n+1\n",
    "                #if Xi,b give satisfy the costrain with Xj, c add it to the support of Xj,b\n",
    "                if (csp.constraints(Xi, b, Xj, c)):\n",
    "                    total=total+1\n",
    "                    S[Xj][c].append((Xi,b))\n",
    "            #if Xi, b do not have any value that support it, delete it from the domain of Xi\n",
    "            #and append in the List to be re-examinet Xi,b.\n",
    "            if (total==0):\n",
    "                csp.delete(Xi, b)\n",
    "                M[Xi][b]=1\n",
    "                List.append((Xi,b))\n",
    "            else:\n",
    "                counter[Xi][Xj][b]=total\n",
    "\n",
    "\n",
    "    while(List):\n",
    "        (Yi, y) = List.pop()\n",
    "        for (Xi,x) in S[Yi][y]:\n",
    "            n=n+1\n",
    "            if (x in csp.domains[Xi]) :\n",
    "                counter[Xi][Yi][x]=counter[Xi][Yi][x]-1\n",
    "                #if x has not support from other variable, and is still on the domain of Xi\n",
    "                #delete x from the domain of Xi, and put it on the list, such that the \n",
    "                #variable-value pairs that have it as support can be re-examinated.\n",
    "                if ((counter[Xi][Yi][x]==0 ) and (M[Xi][x]==0)):\n",
    "                    List.append((Xi,x))\n",
    "                    csp.delete(Xi,x)\n",
    "                    M[Xi][x]==1\n",
    "\n",
    "    return(n)"
   ]
  },
  {
   "cell_type": "markdown",
   "metadata": {},
   "source": [
    "# Comparison"
   ]
  },
  {
   "cell_type": "markdown",
   "metadata": {},
   "source": [
    "\n",
    "## Some easy problem"
   ]
  },
  {
   "cell_type": "code",
   "execution_count": 117,
   "metadata": {},
   "outputs": [],
   "source": [
    "neighbors =  {'A': ['B'], 'B': ['A']}\n",
    "domains = {'A': [0, 1, 2, 3, 4], 'B': [0, 1, 4, 9, 10]}\n",
    "constraints = lambda X, x, Y, y: x % 2 == 0 and (x + y) == 4 and y % 2 != 0\n",
    "csp1 = csp(variables=None, domains=domains, neighbors=neighbors, constraints=constraints)\n",
    "csp2 = csp(variables=None, domains=domains, neighbors=neighbors, constraints=constraints)\n"
   ]
  },
  {
   "cell_type": "code",
   "execution_count": 118,
   "metadata": {},
   "outputs": [
    {
     "name": "stdout",
     "output_type": "stream",
     "text": [
      "AC3 iteration: 25\n",
      "AC4 iteration: 25\n"
     ]
    }
   ],
   "source": [
    "print(\"AC3 iteration: \"+ str(ac3(csp1)))\n",
    "print(\"AC4 iteration: \"+ str(ac4(csp2)))"
   ]
  },
  {
   "cell_type": "code",
   "execution_count": 119,
   "metadata": {},
   "outputs": [
    {
     "name": "stdout",
     "output_type": "stream",
     "text": [
      "AC3 iteration: 100\n",
      "AC4 iteration: 49\n"
     ]
    }
   ],
   "source": [
    "constraints = lambda X, x, Y, y: (x % 2) == 0 and (x + y) == 4\n",
    "csp1 = csp(variables=None, domains=domains, neighbors=neighbors, constraints=constraints)\n",
    "csp2 = csp(variables=None, domains=domains, neighbors=neighbors, constraints=constraints)\n",
    "print(\"AC3 iteration: \"+ str(ac3(csp1)))\n",
    "print(\"AC4 iteration: \"+ str(ac4(csp2)))"
   ]
  },
  {
   "cell_type": "code",
   "execution_count": 120,
   "metadata": {},
   "outputs": [
    {
     "name": "stdout",
     "output_type": "stream",
     "text": [
      "AC3 iteration: 100\n",
      "AC4 iteration: 16\n"
     ]
    }
   ],
   "source": [
    "def x_Y(X,x,Y,y):\n",
    "    if(Y=='B'):\n",
    "        if(y==x**2):\n",
    "            return True\n",
    "        else:\n",
    "            return False\n",
    "    else:\n",
    "        if(y==x**(1/2)):\n",
    "            return True\n",
    "        else:\n",
    "            return False\n",
    "constraints= x_Y\n",
    "print(\"AC3 iteration: \"+ str(ac3(csp1)))\n",
    "print(\"AC4 iteration: \"+ str(ac4(csp2)))"
   ]
  },
  {
   "cell_type": "markdown",
   "metadata": {},
   "source": [
    "## Australia map color problem\n"
   ]
  },
  {
   "cell_type": "code",
   "execution_count": 121,
   "metadata": {},
   "outputs": [
    {
     "name": "stdout",
     "output_type": "stream",
     "text": [
      "AC3 iteration: 127\n",
      "AC4 iteration: 82\n"
     ]
    }
   ],
   "source": [
    "neighbors =  {'WA': ['NT','SA'], 'NT': ['Q','SA'], 'SA': ['Q','NSW','V'], 'Q': ['NSW'], 'NSW': ['V'], 'V': [], 'T': []}\n",
    "domains =  {'WA': [1], 'NT': [1,2,3], 'SA': [1,2,3], 'Q': [1,2,3], 'NSW': [3], 'V': [1,2,3], 'T': [1,2,3]}\n",
    "constraints = lambda X, x, Y, y: x != y \n",
    "csp1 = csp(variables=None, domains=domains, neighbors=neighbors, constraints=constraints)\n",
    "csp2 = csp(variables=None, domains=domains, neighbors=neighbors, constraints=constraints)\n",
    "print(\"AC3 iteration: \"+ str(ac3(csp1)))\n",
    "print(\"AC4 iteration: \"+ str(ac4(csp2)))"
   ]
  },
  {
   "cell_type": "markdown",
   "metadata": {},
   "source": [
    "## Random problem of controllable size"
   ]
  },
  {
   "cell_type": "code",
   "execution_count": 122,
   "metadata": {},
   "outputs": [
    {
     "name": "stdout",
     "output_type": "stream",
     "text": [
      "AC3 iteration: 619537\n",
      "AC4 iteration: 583295\n"
     ]
    }
   ],
   "source": [
    "number_of_node = 50\n",
    "number_of_edge = 25\n",
    "max_domain = 40\n",
    "neighbors ={}\n",
    "domains={}\n",
    "constraints = lambda X, x, Y, y: x != y \n",
    "\n",
    "nodes = [\"\".join(choices(ascii_lowercase, k=3)) for _ in range(number_of_node)]\n",
    "domains_value = [i for i in range(0,max_domain) ]\n",
    "\n",
    "for node in nodes:\n",
    "    temp_list = list(nodes)\n",
    "    temp_list.remove(node)\n",
    "    random_neighbors = random.sample(temp_list, number_of_edge)\n",
    "\n",
    "\n",
    "    neighbors[node] = random_neighbors\n",
    "    domains[node] = random.sample(domains_value, randint(1,max_domain))\n",
    "\n",
    "\n",
    "csp1 = csp(variables=None, domains=domains, neighbors=neighbors, constraints=constraints)\n",
    "csp2 = csp(variables=None, domains=domains, neighbors=neighbors, constraints=constraints)\n",
    "print(\"AC3 iteration: \"+ str(ac3(csp1)))\n",
    "print(\"AC4 iteration: \"+ str(ac4(csp2)))"
   ]
  },
  {
   "cell_type": "markdown",
   "metadata": {},
   "source": [
    "As is possible to see from this comparison AC4 require less step than AC3 except in some case, for example with a very small problem. Although the time complexity of AC4 is =(a^2e) and AC3 is (a^3e) we have to remember that this complexity are true in the worst case and asymptotically, so is normal that for a small problem the number of iteration are much close."
   ]
  },
  {
   "cell_type": "code",
   "execution_count": null,
   "metadata": {},
   "outputs": [],
   "source": []
  }
 ],
 "metadata": {
  "kernelspec": {
   "display_name": "Python 2",
   "language": "python",
   "name": "python2"
  },
  "language_info": {
   "codemirror_mode": {
    "name": "ipython",
    "version": 3
   },
   "file_extension": ".py",
   "mimetype": "text/x-python",
   "name": "python",
   "nbconvert_exporter": "python",
   "pygments_lexer": "ipython3",
   "version": "3.6.7"
  }
 },
 "nbformat": 4,
 "nbformat_minor": 2
}
